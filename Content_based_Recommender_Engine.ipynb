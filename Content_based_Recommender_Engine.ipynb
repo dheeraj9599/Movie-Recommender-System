{
 "cells": [
  {
   "cell_type": "markdown",
   "id": "b208a6b0",
   "metadata": {},
   "source": [
    "<H4> In this Model I Made a Content Based Recommender Model using Vectorization, Cosine Similarity and optimize it futher using weight average rating that I used in Simple Recommender System </H4>"
   ]
  },
  {
   "cell_type": "markdown",
   "id": "c3aa7eec",
   "metadata": {},
   "source": [
    "<H4> Now Here I Used the dumped data from simple recommender system file </H4> "
   ]
  },
  {
   "cell_type": "code",
   "execution_count": 266,
   "id": "c866f419",
   "metadata": {},
   "outputs": [],
   "source": [
    "# First I imported the necessary Libraries\n",
    "\n",
    "# for basic Operations\n",
    "import pandas as pd\n",
    "import numpy as np\n",
    "\n",
    "# for data analysis\n",
    "import matplotlib.pyplot as plt\n",
    "import seaborn as sns\n",
    "from scipy import stats\n",
    "\n",
    "import ast\n",
    "from ast import literal_eval\n",
    "\n",
    "# for vectorization and Cosine Distance or similarity\n",
    "from sklearn.feature_extraction.text import TfidfVectorizer, CountVectorizer\n",
    "from sklearn.metrics.pairwise import linear_kernel, cosine_similarity\n",
    "\n",
    "# for stemming the words\n",
    "from nltk.stem.snowball import SnowballStemmer\n",
    "from nltk.stem.wordnet import WordNetLemmatizer\n",
    "from nltk.corpus import wordnet\n",
    "\n",
    "# for avoiding warnings\n",
    "import warnings; warnings.simplefilter('ignore')\n",
    "\n",
    "# for dumping the dataset and use it in other IDE\n",
    "import pickle\n",
    "\n",
    "# for Interactive Analysis(@interact)\n",
    "import ipywidgets as widgets\n",
    "from ipywidgets import *\n",
    "from ipywidgets import interact"
   ]
  },
  {
   "cell_type": "code",
   "execution_count": 267,
   "id": "e097e84c",
   "metadata": {},
   "outputs": [
    {
     "data": {
      "text/html": [
       "<div>\n",
       "<style scoped>\n",
       "    .dataframe tbody tr th:only-of-type {\n",
       "        vertical-align: middle;\n",
       "    }\n",
       "\n",
       "    .dataframe tbody tr th {\n",
       "        vertical-align: top;\n",
       "    }\n",
       "\n",
       "    .dataframe thead th {\n",
       "        text-align: right;\n",
       "    }\n",
       "</style>\n",
       "<table border=\"1\" class=\"dataframe\">\n",
       "  <thead>\n",
       "    <tr style=\"text-align: right;\">\n",
       "      <th></th>\n",
       "      <th>Unnamed: 0</th>\n",
       "      <th>genres</th>\n",
       "      <th>id</th>\n",
       "      <th>keywords</th>\n",
       "      <th>original_title</th>\n",
       "      <th>overview</th>\n",
       "      <th>popularity</th>\n",
       "      <th>release_date</th>\n",
       "      <th>tagline</th>\n",
       "      <th>vote_average</th>\n",
       "      <th>vote_count</th>\n",
       "      <th>cast</th>\n",
       "      <th>crew</th>\n",
       "      <th>weigh_avg_rating</th>\n",
       "    </tr>\n",
       "  </thead>\n",
       "  <tbody>\n",
       "    <tr>\n",
       "      <th>0</th>\n",
       "      <td>1881</td>\n",
       "      <td>[{\"id\": 18, \"name\": \"Drama\"}, {\"id\": 80, \"name...</td>\n",
       "      <td>278</td>\n",
       "      <td>[{\"id\": 378, \"name\": \"prison\"}, {\"id\": 417, \"n...</td>\n",
       "      <td>The Shawshank Redemption</td>\n",
       "      <td>Framed in the 1940s for the double murder of h...</td>\n",
       "      <td>136.747729</td>\n",
       "      <td>1994-09-23</td>\n",
       "      <td>Fear can hold you prisoner. Hope can set you f...</td>\n",
       "      <td>8.5</td>\n",
       "      <td>8205</td>\n",
       "      <td>[{\"cast_id\": 3, \"character\": \"Andy Dufresne\", ...</td>\n",
       "      <td>[{\"credit_id\": \"52fe4231c3a36847f800b153\", \"de...</td>\n",
       "      <td>8.038342</td>\n",
       "    </tr>\n",
       "    <tr>\n",
       "      <th>1</th>\n",
       "      <td>662</td>\n",
       "      <td>[{\"id\": 18, \"name\": \"Drama\"}]</td>\n",
       "      <td>550</td>\n",
       "      <td>[{\"id\": 825, \"name\": \"support group\"}, {\"id\": ...</td>\n",
       "      <td>Fight Club</td>\n",
       "      <td>A ticking-time-bomb insomniac and a slippery s...</td>\n",
       "      <td>146.757391</td>\n",
       "      <td>1999-10-15</td>\n",
       "      <td>Mischief. Mayhem. Soap.</td>\n",
       "      <td>8.3</td>\n",
       "      <td>9413</td>\n",
       "      <td>[{\"cast_id\": 4, \"character\": \"The Narrator\", \"...</td>\n",
       "      <td>[{\"credit_id\": \"55731b8192514111610027d7\", \"de...</td>\n",
       "      <td>7.921436</td>\n",
       "    </tr>\n",
       "    <tr>\n",
       "      <th>2</th>\n",
       "      <td>65</td>\n",
       "      <td>[{\"id\": 18, \"name\": \"Drama\"}, {\"id\": 28, \"name...</td>\n",
       "      <td>155</td>\n",
       "      <td>[{\"id\": 849, \"name\": \"dc comics\"}, {\"id\": 853,...</td>\n",
       "      <td>The Dark Knight</td>\n",
       "      <td>Batman raises the stakes in his war on crime. ...</td>\n",
       "      <td>187.322927</td>\n",
       "      <td>2008-07-16</td>\n",
       "      <td>Why So Serious?</td>\n",
       "      <td>8.2</td>\n",
       "      <td>12002</td>\n",
       "      <td>[{\"cast_id\": 35, \"character\": \"Bruce Wayne\", \"...</td>\n",
       "      <td>[{\"credit_id\": \"55a0eb4a925141296b0010f8\", \"de...</td>\n",
       "      <td>7.905627</td>\n",
       "    </tr>\n",
       "  </tbody>\n",
       "</table>\n",
       "</div>"
      ],
      "text/plain": [
       "   Unnamed: 0                                             genres   id  \\\n",
       "0        1881  [{\"id\": 18, \"name\": \"Drama\"}, {\"id\": 80, \"name...  278   \n",
       "1         662                      [{\"id\": 18, \"name\": \"Drama\"}]  550   \n",
       "2          65  [{\"id\": 18, \"name\": \"Drama\"}, {\"id\": 28, \"name...  155   \n",
       "\n",
       "                                            keywords  \\\n",
       "0  [{\"id\": 378, \"name\": \"prison\"}, {\"id\": 417, \"n...   \n",
       "1  [{\"id\": 825, \"name\": \"support group\"}, {\"id\": ...   \n",
       "2  [{\"id\": 849, \"name\": \"dc comics\"}, {\"id\": 853,...   \n",
       "\n",
       "             original_title  \\\n",
       "0  The Shawshank Redemption   \n",
       "1                Fight Club   \n",
       "2           The Dark Knight   \n",
       "\n",
       "                                            overview  popularity release_date  \\\n",
       "0  Framed in the 1940s for the double murder of h...  136.747729   1994-09-23   \n",
       "1  A ticking-time-bomb insomniac and a slippery s...  146.757391   1999-10-15   \n",
       "2  Batman raises the stakes in his war on crime. ...  187.322927   2008-07-16   \n",
       "\n",
       "                                             tagline  vote_average  \\\n",
       "0  Fear can hold you prisoner. Hope can set you f...           8.5   \n",
       "1                            Mischief. Mayhem. Soap.           8.3   \n",
       "2                                    Why So Serious?           8.2   \n",
       "\n",
       "   vote_count                                               cast  \\\n",
       "0        8205  [{\"cast_id\": 3, \"character\": \"Andy Dufresne\", ...   \n",
       "1        9413  [{\"cast_id\": 4, \"character\": \"The Narrator\", \"...   \n",
       "2       12002  [{\"cast_id\": 35, \"character\": \"Bruce Wayne\", \"...   \n",
       "\n",
       "                                                crew  weigh_avg_rating  \n",
       "0  [{\"credit_id\": \"52fe4231c3a36847f800b153\", \"de...          8.038342  \n",
       "1  [{\"credit_id\": \"55731b8192514111610027d7\", \"de...          7.921436  \n",
       "2  [{\"credit_id\": \"55a0eb4a925141296b0010f8\", \"de...          7.905627  "
      ]
     },
     "execution_count": 267,
     "metadata": {},
     "output_type": "execute_result"
    }
   ],
   "source": [
    "# Reading the movie dataset \n",
    "movies = pd. read_csv('movies_data.csv')\n",
    "\n",
    "\n",
    "# Checking the dataset\n",
    "movies.head(3)"
   ]
  },
  {
   "cell_type": "code",
   "execution_count": 268,
   "id": "881bf2e7",
   "metadata": {},
   "outputs": [
    {
     "data": {
      "text/plain": [
       "(4505, 14)"
      ]
     },
     "execution_count": 268,
     "metadata": {},
     "output_type": "execute_result"
    }
   ],
   "source": [
    "# Checking the dimension of movies dataset\n",
    "movies.shape"
   ]
  },
  {
   "cell_type": "markdown",
   "id": "2e55dec5",
   "metadata": {},
   "source": [
    "# PreProcessing of Data"
   ]
  },
  {
   "cell_type": "code",
   "execution_count": 269,
   "id": "0d34431c",
   "metadata": {},
   "outputs": [],
   "source": [
    "# here I rename the column original_title to title as they both are same\n",
    "movies = movies.rename(columns={'original_title':'title'})"
   ]
  },
  {
   "cell_type": "code",
   "execution_count": 270,
   "id": "320d878b",
   "metadata": {},
   "outputs": [
    {
     "data": {
      "text/plain": [
       "2"
      ]
     },
     "execution_count": 270,
     "metadata": {},
     "output_type": "execute_result"
    }
   ],
   "source": [
    "movies['title'].duplicated().sum()"
   ]
  },
  {
   "cell_type": "code",
   "execution_count": 271,
   "id": "d4baf3f8",
   "metadata": {},
   "outputs": [
    {
     "data": {
      "text/plain": [
       "(4503, 14)"
      ]
     },
     "execution_count": 271,
     "metadata": {},
     "output_type": "execute_result"
    }
   ],
   "source": [
    "# removing the duplicates\n",
    "\n",
    "movies = movies.drop_duplicates(subset=[\"title\"], keep='first')\n",
    "movies.shape"
   ]
  },
  {
   "cell_type": "code",
   "execution_count": 272,
   "id": "e684cd2c",
   "metadata": {},
   "outputs": [],
   "source": [
    "# Making a final data by dropping unnecessary columns\n",
    "\n",
    "final_data = movies[['id', 'title', 'overview','genres', 'release_date', 'keywords', 'cast', 'crew', 'weigh_avg_rating']]"
   ]
  },
  {
   "cell_type": "code",
   "execution_count": 273,
   "id": "918d131f",
   "metadata": {},
   "outputs": [
    {
     "data": {
      "text/html": [
       "<div>\n",
       "<style scoped>\n",
       "    .dataframe tbody tr th:only-of-type {\n",
       "        vertical-align: middle;\n",
       "    }\n",
       "\n",
       "    .dataframe tbody tr th {\n",
       "        vertical-align: top;\n",
       "    }\n",
       "\n",
       "    .dataframe thead th {\n",
       "        text-align: right;\n",
       "    }\n",
       "</style>\n",
       "<table border=\"1\" class=\"dataframe\">\n",
       "  <thead>\n",
       "    <tr style=\"text-align: right;\">\n",
       "      <th></th>\n",
       "      <th>id</th>\n",
       "      <th>title</th>\n",
       "      <th>overview</th>\n",
       "      <th>genres</th>\n",
       "      <th>release_date</th>\n",
       "      <th>keywords</th>\n",
       "      <th>cast</th>\n",
       "      <th>crew</th>\n",
       "      <th>weigh_avg_rating</th>\n",
       "    </tr>\n",
       "  </thead>\n",
       "  <tbody>\n",
       "    <tr>\n",
       "      <th>0</th>\n",
       "      <td>278</td>\n",
       "      <td>The Shawshank Redemption</td>\n",
       "      <td>Framed in the 1940s for the double murder of h...</td>\n",
       "      <td>[{\"id\": 18, \"name\": \"Drama\"}, {\"id\": 80, \"name...</td>\n",
       "      <td>1994-09-23</td>\n",
       "      <td>[{\"id\": 378, \"name\": \"prison\"}, {\"id\": 417, \"n...</td>\n",
       "      <td>[{\"cast_id\": 3, \"character\": \"Andy Dufresne\", ...</td>\n",
       "      <td>[{\"credit_id\": \"52fe4231c3a36847f800b153\", \"de...</td>\n",
       "      <td>8.038342</td>\n",
       "    </tr>\n",
       "    <tr>\n",
       "      <th>1</th>\n",
       "      <td>550</td>\n",
       "      <td>Fight Club</td>\n",
       "      <td>A ticking-time-bomb insomniac and a slippery s...</td>\n",
       "      <td>[{\"id\": 18, \"name\": \"Drama\"}]</td>\n",
       "      <td>1999-10-15</td>\n",
       "      <td>[{\"id\": 825, \"name\": \"support group\"}, {\"id\": ...</td>\n",
       "      <td>[{\"cast_id\": 4, \"character\": \"The Narrator\", \"...</td>\n",
       "      <td>[{\"credit_id\": \"55731b8192514111610027d7\", \"de...</td>\n",
       "      <td>7.921436</td>\n",
       "    </tr>\n",
       "    <tr>\n",
       "      <th>2</th>\n",
       "      <td>155</td>\n",
       "      <td>The Dark Knight</td>\n",
       "      <td>Batman raises the stakes in his war on crime. ...</td>\n",
       "      <td>[{\"id\": 18, \"name\": \"Drama\"}, {\"id\": 28, \"name...</td>\n",
       "      <td>2008-07-16</td>\n",
       "      <td>[{\"id\": 849, \"name\": \"dc comics\"}, {\"id\": 853,...</td>\n",
       "      <td>[{\"cast_id\": 35, \"character\": \"Bruce Wayne\", \"...</td>\n",
       "      <td>[{\"credit_id\": \"55a0eb4a925141296b0010f8\", \"de...</td>\n",
       "      <td>7.905627</td>\n",
       "    </tr>\n",
       "  </tbody>\n",
       "</table>\n",
       "</div>"
      ],
      "text/plain": [
       "    id                     title  \\\n",
       "0  278  The Shawshank Redemption   \n",
       "1  550                Fight Club   \n",
       "2  155           The Dark Knight   \n",
       "\n",
       "                                            overview  \\\n",
       "0  Framed in the 1940s for the double murder of h...   \n",
       "1  A ticking-time-bomb insomniac and a slippery s...   \n",
       "2  Batman raises the stakes in his war on crime. ...   \n",
       "\n",
       "                                              genres release_date  \\\n",
       "0  [{\"id\": 18, \"name\": \"Drama\"}, {\"id\": 80, \"name...   1994-09-23   \n",
       "1                      [{\"id\": 18, \"name\": \"Drama\"}]   1999-10-15   \n",
       "2  [{\"id\": 18, \"name\": \"Drama\"}, {\"id\": 28, \"name...   2008-07-16   \n",
       "\n",
       "                                            keywords  \\\n",
       "0  [{\"id\": 378, \"name\": \"prison\"}, {\"id\": 417, \"n...   \n",
       "1  [{\"id\": 825, \"name\": \"support group\"}, {\"id\": ...   \n",
       "2  [{\"id\": 849, \"name\": \"dc comics\"}, {\"id\": 853,...   \n",
       "\n",
       "                                                cast  \\\n",
       "0  [{\"cast_id\": 3, \"character\": \"Andy Dufresne\", ...   \n",
       "1  [{\"cast_id\": 4, \"character\": \"The Narrator\", \"...   \n",
       "2  [{\"cast_id\": 35, \"character\": \"Bruce Wayne\", \"...   \n",
       "\n",
       "                                                crew  weigh_avg_rating  \n",
       "0  [{\"credit_id\": \"52fe4231c3a36847f800b153\", \"de...          8.038342  \n",
       "1  [{\"credit_id\": \"55731b8192514111610027d7\", \"de...          7.921436  \n",
       "2  [{\"credit_id\": \"55a0eb4a925141296b0010f8\", \"de...          7.905627  "
      ]
     },
     "execution_count": 273,
     "metadata": {},
     "output_type": "execute_result"
    }
   ],
   "source": [
    "final_data.head(3)"
   ]
  },
  {
   "cell_type": "code",
   "execution_count": 274,
   "id": "db9fa7de",
   "metadata": {},
   "outputs": [
    {
     "data": {
      "text/plain": [
       "id                  0\n",
       "title               0\n",
       "overview            1\n",
       "genres              0\n",
       "release_date        1\n",
       "keywords            0\n",
       "cast                0\n",
       "crew                0\n",
       "weigh_avg_rating    0\n",
       "dtype: int64"
      ]
     },
     "execution_count": 274,
     "metadata": {},
     "output_type": "execute_result"
    }
   ],
   "source": [
    "# checking for the missing values\n",
    "final_data.isnull().sum()"
   ]
  },
  {
   "cell_type": "code",
   "execution_count": 275,
   "id": "bbe36635",
   "metadata": {},
   "outputs": [
    {
     "data": {
      "text/plain": [
       "id                  0\n",
       "title               0\n",
       "overview            0\n",
       "genres              0\n",
       "release_date        0\n",
       "keywords            0\n",
       "cast                0\n",
       "crew                0\n",
       "weigh_avg_rating    0\n",
       "dtype: int64"
      ]
     },
     "execution_count": 275,
     "metadata": {},
     "output_type": "execute_result"
    }
   ],
   "source": [
    "# removing the missing values rows\n",
    "final_data.dropna(inplace = True)\n",
    "final_data.isnull().sum()"
   ]
  },
  {
   "cell_type": "code",
   "execution_count": 276,
   "id": "9b51249c",
   "metadata": {},
   "outputs": [
    {
     "name": "stdout",
     "output_type": "stream",
     "text": [
      "No. of Rows Before Removing Duplicates:  4503\n",
      "No. of Rows After Removing Duplicates:  4503\n"
     ]
    }
   ],
   "source": [
    "# Now here I checked for duplicate rows\n",
    "\n",
    "# lets print the no. of rows before removing Duplicates\n",
    "print(\"No. of Rows Before Removing Duplicates: \",movies.shape[0])\n",
    "\n",
    "# Removing all the duplicates from the data\n",
    "movies.drop_duplicates(subset = None, keep = 'first', inplace = True)\n",
    "\n",
    "# lets print the no. of rows after removing Duplicates\n",
    "print(\"No. of Rows After Removing Duplicates: \",movies.shape[0])"
   ]
  },
  {
   "cell_type": "code",
   "execution_count": 277,
   "id": "3c634b8b",
   "metadata": {},
   "outputs": [
    {
     "data": {
      "text/html": [
       "<div>\n",
       "<style scoped>\n",
       "    .dataframe tbody tr th:only-of-type {\n",
       "        vertical-align: middle;\n",
       "    }\n",
       "\n",
       "    .dataframe tbody tr th {\n",
       "        vertical-align: top;\n",
       "    }\n",
       "\n",
       "    .dataframe thead th {\n",
       "        text-align: right;\n",
       "    }\n",
       "</style>\n",
       "<table border=\"1\" class=\"dataframe\">\n",
       "  <thead>\n",
       "    <tr style=\"text-align: right;\">\n",
       "      <th></th>\n",
       "      <th>id</th>\n",
       "      <th>title</th>\n",
       "      <th>overview</th>\n",
       "      <th>genres</th>\n",
       "      <th>keywords</th>\n",
       "      <th>cast</th>\n",
       "      <th>crew</th>\n",
       "      <th>weigh_avg_rating</th>\n",
       "      <th>year</th>\n",
       "    </tr>\n",
       "  </thead>\n",
       "  <tbody>\n",
       "    <tr>\n",
       "      <th>0</th>\n",
       "      <td>278</td>\n",
       "      <td>The Shawshank Redemption</td>\n",
       "      <td>Framed in the 1940s for the double murder of h...</td>\n",
       "      <td>[{\"id\": 18, \"name\": \"Drama\"}, {\"id\": 80, \"name...</td>\n",
       "      <td>[{\"id\": 378, \"name\": \"prison\"}, {\"id\": 417, \"n...</td>\n",
       "      <td>[{\"cast_id\": 3, \"character\": \"Andy Dufresne\", ...</td>\n",
       "      <td>[{\"credit_id\": \"52fe4231c3a36847f800b153\", \"de...</td>\n",
       "      <td>8.038342</td>\n",
       "      <td>1994</td>\n",
       "    </tr>\n",
       "    <tr>\n",
       "      <th>1</th>\n",
       "      <td>550</td>\n",
       "      <td>Fight Club</td>\n",
       "      <td>A ticking-time-bomb insomniac and a slippery s...</td>\n",
       "      <td>[{\"id\": 18, \"name\": \"Drama\"}]</td>\n",
       "      <td>[{\"id\": 825, \"name\": \"support group\"}, {\"id\": ...</td>\n",
       "      <td>[{\"cast_id\": 4, \"character\": \"The Narrator\", \"...</td>\n",
       "      <td>[{\"credit_id\": \"55731b8192514111610027d7\", \"de...</td>\n",
       "      <td>7.921436</td>\n",
       "      <td>1999</td>\n",
       "    </tr>\n",
       "    <tr>\n",
       "      <th>2</th>\n",
       "      <td>155</td>\n",
       "      <td>The Dark Knight</td>\n",
       "      <td>Batman raises the stakes in his war on crime. ...</td>\n",
       "      <td>[{\"id\": 18, \"name\": \"Drama\"}, {\"id\": 28, \"name...</td>\n",
       "      <td>[{\"id\": 849, \"name\": \"dc comics\"}, {\"id\": 853,...</td>\n",
       "      <td>[{\"cast_id\": 35, \"character\": \"Bruce Wayne\", \"...</td>\n",
       "      <td>[{\"credit_id\": \"55a0eb4a925141296b0010f8\", \"de...</td>\n",
       "      <td>7.905627</td>\n",
       "      <td>2008</td>\n",
       "    </tr>\n",
       "    <tr>\n",
       "      <th>3</th>\n",
       "      <td>680</td>\n",
       "      <td>Pulp Fiction</td>\n",
       "      <td>A burger-loving hit man, his philosophical par...</td>\n",
       "      <td>[{\"id\": 53, \"name\": \"Thriller\"}, {\"id\": 80, \"n...</td>\n",
       "      <td>[{\"id\": 396, \"name\": \"transporter\"}, {\"id\": 14...</td>\n",
       "      <td>[{\"cast_id\": 2, \"character\": \"Vincent Vega\", \"...</td>\n",
       "      <td>[{\"credit_id\": \"52fe4269c3a36847f801caa3\", \"de...</td>\n",
       "      <td>7.885403</td>\n",
       "      <td>1994</td>\n",
       "    </tr>\n",
       "    <tr>\n",
       "      <th>4</th>\n",
       "      <td>27205</td>\n",
       "      <td>Inception</td>\n",
       "      <td>Cobb, a skilled thief who commits corporate es...</td>\n",
       "      <td>[{\"id\": 28, \"name\": \"Action\"}, {\"id\": 53, \"nam...</td>\n",
       "      <td>[{\"id\": 1014, \"name\": \"loss of lover\"}, {\"id\":...</td>\n",
       "      <td>[{\"cast_id\": 1, \"character\": \"Dom Cobb\", \"cred...</td>\n",
       "      <td>[{\"credit_id\": \"56e8462cc3a368408400354c\", \"de...</td>\n",
       "      <td>7.850750</td>\n",
       "      <td>2010</td>\n",
       "    </tr>\n",
       "  </tbody>\n",
       "</table>\n",
       "</div>"
      ],
      "text/plain": [
       "      id                     title  \\\n",
       "0    278  The Shawshank Redemption   \n",
       "1    550                Fight Club   \n",
       "2    155           The Dark Knight   \n",
       "3    680              Pulp Fiction   \n",
       "4  27205                 Inception   \n",
       "\n",
       "                                            overview  \\\n",
       "0  Framed in the 1940s for the double murder of h...   \n",
       "1  A ticking-time-bomb insomniac and a slippery s...   \n",
       "2  Batman raises the stakes in his war on crime. ...   \n",
       "3  A burger-loving hit man, his philosophical par...   \n",
       "4  Cobb, a skilled thief who commits corporate es...   \n",
       "\n",
       "                                              genres  \\\n",
       "0  [{\"id\": 18, \"name\": \"Drama\"}, {\"id\": 80, \"name...   \n",
       "1                      [{\"id\": 18, \"name\": \"Drama\"}]   \n",
       "2  [{\"id\": 18, \"name\": \"Drama\"}, {\"id\": 28, \"name...   \n",
       "3  [{\"id\": 53, \"name\": \"Thriller\"}, {\"id\": 80, \"n...   \n",
       "4  [{\"id\": 28, \"name\": \"Action\"}, {\"id\": 53, \"nam...   \n",
       "\n",
       "                                            keywords  \\\n",
       "0  [{\"id\": 378, \"name\": \"prison\"}, {\"id\": 417, \"n...   \n",
       "1  [{\"id\": 825, \"name\": \"support group\"}, {\"id\": ...   \n",
       "2  [{\"id\": 849, \"name\": \"dc comics\"}, {\"id\": 853,...   \n",
       "3  [{\"id\": 396, \"name\": \"transporter\"}, {\"id\": 14...   \n",
       "4  [{\"id\": 1014, \"name\": \"loss of lover\"}, {\"id\":...   \n",
       "\n",
       "                                                cast  \\\n",
       "0  [{\"cast_id\": 3, \"character\": \"Andy Dufresne\", ...   \n",
       "1  [{\"cast_id\": 4, \"character\": \"The Narrator\", \"...   \n",
       "2  [{\"cast_id\": 35, \"character\": \"Bruce Wayne\", \"...   \n",
       "3  [{\"cast_id\": 2, \"character\": \"Vincent Vega\", \"...   \n",
       "4  [{\"cast_id\": 1, \"character\": \"Dom Cobb\", \"cred...   \n",
       "\n",
       "                                                crew  weigh_avg_rating  year  \n",
       "0  [{\"credit_id\": \"52fe4231c3a36847f800b153\", \"de...          8.038342  1994  \n",
       "1  [{\"credit_id\": \"55731b8192514111610027d7\", \"de...          7.921436  1999  \n",
       "2  [{\"credit_id\": \"55a0eb4a925141296b0010f8\", \"de...          7.905627  2008  \n",
       "3  [{\"credit_id\": \"52fe4269c3a36847f801caa3\", \"de...          7.885403  1994  \n",
       "4  [{\"credit_id\": \"56e8462cc3a368408400354c\", \"de...          7.850750  2010  "
      ]
     },
     "execution_count": 277,
     "metadata": {},
     "output_type": "execute_result"
    }
   ],
   "source": [
    "# fetching release year from the release date and making a column for it\n",
    "\n",
    "final_data['year'] = pd.to_datetime(final_data['release_date'], errors='coerce').apply(lambda x: str(x).split('-')[0] if x != np.nan else np.nan)\n",
    "\n",
    "# now removing the release_date column\n",
    "final_data = final_data.drop(['release_date'], axis = 1) \n",
    "\n",
    "# now checking the final movie dataset\n",
    "final_data.head()"
   ]
  },
  {
   "cell_type": "code",
   "execution_count": 278,
   "id": "6b2861dc",
   "metadata": {},
   "outputs": [
    {
     "data": {
      "text/html": [
       "<div>\n",
       "<style scoped>\n",
       "    .dataframe tbody tr th:only-of-type {\n",
       "        vertical-align: middle;\n",
       "    }\n",
       "\n",
       "    .dataframe tbody tr th {\n",
       "        vertical-align: top;\n",
       "    }\n",
       "\n",
       "    .dataframe thead th {\n",
       "        text-align: right;\n",
       "    }\n",
       "</style>\n",
       "<table border=\"1\" class=\"dataframe\">\n",
       "  <thead>\n",
       "    <tr style=\"text-align: right;\">\n",
       "      <th></th>\n",
       "      <th>id</th>\n",
       "      <th>title</th>\n",
       "      <th>overview</th>\n",
       "      <th>genres</th>\n",
       "      <th>keywords</th>\n",
       "      <th>cast</th>\n",
       "      <th>crew</th>\n",
       "      <th>weigh_avg_rating</th>\n",
       "      <th>year</th>\n",
       "    </tr>\n",
       "  </thead>\n",
       "  <tbody>\n",
       "    <tr>\n",
       "      <th>0</th>\n",
       "      <td>278</td>\n",
       "      <td>The Shawshank Redemption</td>\n",
       "      <td>Framed in the 1940s for the double murder of h...</td>\n",
       "      <td>[Drama, Crime]</td>\n",
       "      <td>[{\"id\": 378, \"name\": \"prison\"}, {\"id\": 417, \"n...</td>\n",
       "      <td>[{\"cast_id\": 3, \"character\": \"Andy Dufresne\", ...</td>\n",
       "      <td>[{\"credit_id\": \"52fe4231c3a36847f800b153\", \"de...</td>\n",
       "      <td>8.038342</td>\n",
       "      <td>1994</td>\n",
       "    </tr>\n",
       "    <tr>\n",
       "      <th>1</th>\n",
       "      <td>550</td>\n",
       "      <td>Fight Club</td>\n",
       "      <td>A ticking-time-bomb insomniac and a slippery s...</td>\n",
       "      <td>[Drama]</td>\n",
       "      <td>[{\"id\": 825, \"name\": \"support group\"}, {\"id\": ...</td>\n",
       "      <td>[{\"cast_id\": 4, \"character\": \"The Narrator\", \"...</td>\n",
       "      <td>[{\"credit_id\": \"55731b8192514111610027d7\", \"de...</td>\n",
       "      <td>7.921436</td>\n",
       "      <td>1999</td>\n",
       "    </tr>\n",
       "    <tr>\n",
       "      <th>2</th>\n",
       "      <td>155</td>\n",
       "      <td>The Dark Knight</td>\n",
       "      <td>Batman raises the stakes in his war on crime. ...</td>\n",
       "      <td>[Drama, Action, Crime, Thriller]</td>\n",
       "      <td>[{\"id\": 849, \"name\": \"dc comics\"}, {\"id\": 853,...</td>\n",
       "      <td>[{\"cast_id\": 35, \"character\": \"Bruce Wayne\", \"...</td>\n",
       "      <td>[{\"credit_id\": \"55a0eb4a925141296b0010f8\", \"de...</td>\n",
       "      <td>7.905627</td>\n",
       "      <td>2008</td>\n",
       "    </tr>\n",
       "  </tbody>\n",
       "</table>\n",
       "</div>"
      ],
      "text/plain": [
       "    id                     title  \\\n",
       "0  278  The Shawshank Redemption   \n",
       "1  550                Fight Club   \n",
       "2  155           The Dark Knight   \n",
       "\n",
       "                                            overview  \\\n",
       "0  Framed in the 1940s for the double murder of h...   \n",
       "1  A ticking-time-bomb insomniac and a slippery s...   \n",
       "2  Batman raises the stakes in his war on crime. ...   \n",
       "\n",
       "                             genres  \\\n",
       "0                    [Drama, Crime]   \n",
       "1                           [Drama]   \n",
       "2  [Drama, Action, Crime, Thriller]   \n",
       "\n",
       "                                            keywords  \\\n",
       "0  [{\"id\": 378, \"name\": \"prison\"}, {\"id\": 417, \"n...   \n",
       "1  [{\"id\": 825, \"name\": \"support group\"}, {\"id\": ...   \n",
       "2  [{\"id\": 849, \"name\": \"dc comics\"}, {\"id\": 853,...   \n",
       "\n",
       "                                                cast  \\\n",
       "0  [{\"cast_id\": 3, \"character\": \"Andy Dufresne\", ...   \n",
       "1  [{\"cast_id\": 4, \"character\": \"The Narrator\", \"...   \n",
       "2  [{\"cast_id\": 35, \"character\": \"Bruce Wayne\", \"...   \n",
       "\n",
       "                                                crew  weigh_avg_rating  year  \n",
       "0  [{\"credit_id\": \"52fe4231c3a36847f800b153\", \"de...          8.038342  1994  \n",
       "1  [{\"credit_id\": \"55731b8192514111610027d7\", \"de...          7.921436  1999  \n",
       "2  [{\"credit_id\": \"55a0eb4a925141296b0010f8\", \"de...          7.905627  2008  "
      ]
     },
     "execution_count": 278,
     "metadata": {},
     "output_type": "execute_result"
    }
   ],
   "source": [
    "# now here I change the genres column format from dictionary to List using literal_eval\n",
    "\n",
    "# the dataset contain genres in the form of id and name. The genre of movie is present in the name section \n",
    "\n",
    "# so I did this\n",
    "final_data['genres'] = final_data['genres'].fillna('[]').apply(literal_eval).apply(lambda x: [i['name'] for i in x] if isinstance(x, list) else [])\n",
    "\n",
    "final_data.head(3)"
   ]
  },
  {
   "cell_type": "code",
   "execution_count": 279,
   "id": "91ee7d2e",
   "metadata": {},
   "outputs": [
    {
     "data": {
      "text/html": [
       "<div>\n",
       "<style scoped>\n",
       "    .dataframe tbody tr th:only-of-type {\n",
       "        vertical-align: middle;\n",
       "    }\n",
       "\n",
       "    .dataframe tbody tr th {\n",
       "        vertical-align: top;\n",
       "    }\n",
       "\n",
       "    .dataframe thead th {\n",
       "        text-align: right;\n",
       "    }\n",
       "</style>\n",
       "<table border=\"1\" class=\"dataframe\">\n",
       "  <thead>\n",
       "    <tr style=\"text-align: right;\">\n",
       "      <th></th>\n",
       "      <th>id</th>\n",
       "      <th>title</th>\n",
       "      <th>overview</th>\n",
       "      <th>genres</th>\n",
       "      <th>keywords</th>\n",
       "      <th>cast</th>\n",
       "      <th>crew</th>\n",
       "      <th>weigh_avg_rating</th>\n",
       "      <th>year</th>\n",
       "    </tr>\n",
       "  </thead>\n",
       "  <tbody>\n",
       "    <tr>\n",
       "      <th>0</th>\n",
       "      <td>278</td>\n",
       "      <td>The Shawshank Redemption</td>\n",
       "      <td>Framed in the 1940s for the double murder of h...</td>\n",
       "      <td>[Drama, Crime]</td>\n",
       "      <td>[prison, corruption, police brutality, prison ...</td>\n",
       "      <td>[{\"cast_id\": 3, \"character\": \"Andy Dufresne\", ...</td>\n",
       "      <td>[{\"credit_id\": \"52fe4231c3a36847f800b153\", \"de...</td>\n",
       "      <td>8.038342</td>\n",
       "      <td>1994</td>\n",
       "    </tr>\n",
       "    <tr>\n",
       "      <th>1</th>\n",
       "      <td>550</td>\n",
       "      <td>Fight Club</td>\n",
       "      <td>A ticking-time-bomb insomniac and a slippery s...</td>\n",
       "      <td>[Drama]</td>\n",
       "      <td>[support group, dual identity, nihilism, rage ...</td>\n",
       "      <td>[{\"cast_id\": 4, \"character\": \"The Narrator\", \"...</td>\n",
       "      <td>[{\"credit_id\": \"55731b8192514111610027d7\", \"de...</td>\n",
       "      <td>7.921436</td>\n",
       "      <td>1999</td>\n",
       "    </tr>\n",
       "  </tbody>\n",
       "</table>\n",
       "</div>"
      ],
      "text/plain": [
       "    id                     title  \\\n",
       "0  278  The Shawshank Redemption   \n",
       "1  550                Fight Club   \n",
       "\n",
       "                                            overview          genres  \\\n",
       "0  Framed in the 1940s for the double murder of h...  [Drama, Crime]   \n",
       "1  A ticking-time-bomb insomniac and a slippery s...         [Drama]   \n",
       "\n",
       "                                            keywords  \\\n",
       "0  [prison, corruption, police brutality, prison ...   \n",
       "1  [support group, dual identity, nihilism, rage ...   \n",
       "\n",
       "                                                cast  \\\n",
       "0  [{\"cast_id\": 3, \"character\": \"Andy Dufresne\", ...   \n",
       "1  [{\"cast_id\": 4, \"character\": \"The Narrator\", \"...   \n",
       "\n",
       "                                                crew  weigh_avg_rating  year  \n",
       "0  [{\"credit_id\": \"52fe4231c3a36847f800b153\", \"de...          8.038342  1994  \n",
       "1  [{\"credit_id\": \"55731b8192514111610027d7\", \"de...          7.921436  1999  "
      ]
     },
     "execution_count": 279,
     "metadata": {},
     "output_type": "execute_result"
    }
   ],
   "source": [
    "# same Thing that I done above do with the Keywords\n",
    "\n",
    "final_data['keywords'] = final_data['keywords'].fillna('[]').apply(literal_eval).apply(lambda x: [i['name'] for i in x] if isinstance(x, list) else [])\n",
    "\n",
    "final_data.head(2)"
   ]
  },
  {
   "cell_type": "code",
   "execution_count": 280,
   "id": "c478168e",
   "metadata": {},
   "outputs": [],
   "source": [
    "# here I am taking only Top 3 cast from the cast columns as many people watch movies on the basis of actors/actresses\n",
    "\n",
    "def Leading_cast(text):\n",
    "    List = []\n",
    "    j = 0\n",
    "    for i in ast.literal_eval(text):\n",
    "        if j < 3:\n",
    "            List.append(i['name'])\n",
    "        j+=1\n",
    "    return List "
   ]
  },
  {
   "cell_type": "code",
   "execution_count": 281,
   "id": "629ac059",
   "metadata": {},
   "outputs": [],
   "source": [
    "# fetching the Top 3 leading cast\n",
    "final_data['cast'] = final_data['cast'].apply(Leading_cast)"
   ]
  },
  {
   "cell_type": "code",
   "execution_count": 282,
   "id": "6902acab",
   "metadata": {},
   "outputs": [
    {
     "data": {
      "text/html": [
       "<div>\n",
       "<style scoped>\n",
       "    .dataframe tbody tr th:only-of-type {\n",
       "        vertical-align: middle;\n",
       "    }\n",
       "\n",
       "    .dataframe tbody tr th {\n",
       "        vertical-align: top;\n",
       "    }\n",
       "\n",
       "    .dataframe thead th {\n",
       "        text-align: right;\n",
       "    }\n",
       "</style>\n",
       "<table border=\"1\" class=\"dataframe\">\n",
       "  <thead>\n",
       "    <tr style=\"text-align: right;\">\n",
       "      <th></th>\n",
       "      <th>id</th>\n",
       "      <th>title</th>\n",
       "      <th>overview</th>\n",
       "      <th>genres</th>\n",
       "      <th>keywords</th>\n",
       "      <th>cast</th>\n",
       "      <th>crew</th>\n",
       "      <th>weigh_avg_rating</th>\n",
       "      <th>year</th>\n",
       "    </tr>\n",
       "  </thead>\n",
       "  <tbody>\n",
       "    <tr>\n",
       "      <th>0</th>\n",
       "      <td>278</td>\n",
       "      <td>The Shawshank Redemption</td>\n",
       "      <td>Framed in the 1940s for the double murder of h...</td>\n",
       "      <td>[Drama, Crime]</td>\n",
       "      <td>[prison, corruption, police brutality, prison ...</td>\n",
       "      <td>[Tim Robbins, Morgan Freeman, Bob Gunton]</td>\n",
       "      <td>[{\"credit_id\": \"52fe4231c3a36847f800b153\", \"de...</td>\n",
       "      <td>8.038342</td>\n",
       "      <td>1994</td>\n",
       "    </tr>\n",
       "    <tr>\n",
       "      <th>1</th>\n",
       "      <td>550</td>\n",
       "      <td>Fight Club</td>\n",
       "      <td>A ticking-time-bomb insomniac and a slippery s...</td>\n",
       "      <td>[Drama]</td>\n",
       "      <td>[support group, dual identity, nihilism, rage ...</td>\n",
       "      <td>[Edward Norton, Brad Pitt, Meat Loaf]</td>\n",
       "      <td>[{\"credit_id\": \"55731b8192514111610027d7\", \"de...</td>\n",
       "      <td>7.921436</td>\n",
       "      <td>1999</td>\n",
       "    </tr>\n",
       "  </tbody>\n",
       "</table>\n",
       "</div>"
      ],
      "text/plain": [
       "    id                     title  \\\n",
       "0  278  The Shawshank Redemption   \n",
       "1  550                Fight Club   \n",
       "\n",
       "                                            overview          genres  \\\n",
       "0  Framed in the 1940s for the double murder of h...  [Drama, Crime]   \n",
       "1  A ticking-time-bomb insomniac and a slippery s...         [Drama]   \n",
       "\n",
       "                                            keywords  \\\n",
       "0  [prison, corruption, police brutality, prison ...   \n",
       "1  [support group, dual identity, nihilism, rage ...   \n",
       "\n",
       "                                        cast  \\\n",
       "0  [Tim Robbins, Morgan Freeman, Bob Gunton]   \n",
       "1      [Edward Norton, Brad Pitt, Meat Loaf]   \n",
       "\n",
       "                                                crew  weigh_avg_rating  year  \n",
       "0  [{\"credit_id\": \"52fe4231c3a36847f800b153\", \"de...          8.038342  1994  \n",
       "1  [{\"credit_id\": \"55731b8192514111610027d7\", \"de...          7.921436  1999  "
      ]
     },
     "execution_count": 282,
     "metadata": {},
     "output_type": "execute_result"
    }
   ],
   "source": [
    "# checking the dataset\n",
    "final_data.head(2)"
   ]
  },
  {
   "cell_type": "code",
   "execution_count": 283,
   "id": "3ddc8d1a",
   "metadata": {},
   "outputs": [],
   "source": [
    "# Now similiary there may me many movies whose directors are same. so it will make easy to find similarity between movies\n",
    "# according to directors\n",
    "def get_director(crew):\n",
    "    L = []\n",
    "    for i in ast.literal_eval(crew):\n",
    "        if i['job'] == 'Director':\n",
    "            L.append(i['name'])\n",
    "    return L "
   ]
  },
  {
   "cell_type": "code",
   "execution_count": 284,
   "id": "0a83fd6b",
   "metadata": {},
   "outputs": [],
   "source": [
    "# fetching the director\n",
    "final_data['crew'] =  final_data['crew'].apply(get_director)"
   ]
  },
  {
   "cell_type": "code",
   "execution_count": 285,
   "id": "a98d953b",
   "metadata": {},
   "outputs": [],
   "source": [
    "# renaming crew to director\n",
    "final_data = final_data.rename(columns={'crew':'director'})"
   ]
  },
  {
   "cell_type": "code",
   "execution_count": 286,
   "id": "2a471431",
   "metadata": {},
   "outputs": [],
   "source": [
    "# For use as dump data in other id\n",
    "New_data = final_data\n",
    "\n",
    "# now i dumped the New_data to use it in my IDe To build Web app\n",
    "pickle.dump(New_data,open('New_data.pkl','wb'))"
   ]
  },
  {
   "cell_type": "code",
   "execution_count": 287,
   "id": "74cc53bc",
   "metadata": {},
   "outputs": [
    {
     "data": {
      "text/plain": [
       "(4501, 9)"
      ]
     },
     "execution_count": 287,
     "metadata": {},
     "output_type": "execute_result"
    }
   ],
   "source": [
    "New_data.shape"
   ]
  },
  {
   "cell_type": "code",
   "execution_count": 288,
   "id": "6d43e5b8",
   "metadata": {},
   "outputs": [],
   "source": [
    "# Now Here I changing the Upper case strings inside the list cast to lower case and removing space between the strings\n",
    "# as it will be easy to compare.  \n",
    "\n",
    "final_data['cast'] = final_data['cast'].apply(lambda x: [str.lower(i.replace(\" \", \"\")) for i in x])"
   ]
  },
  {
   "cell_type": "code",
   "execution_count": 289,
   "id": "c4b9f560",
   "metadata": {},
   "outputs": [
    {
     "data": {
      "text/html": [
       "<div>\n",
       "<style scoped>\n",
       "    .dataframe tbody tr th:only-of-type {\n",
       "        vertical-align: middle;\n",
       "    }\n",
       "\n",
       "    .dataframe tbody tr th {\n",
       "        vertical-align: top;\n",
       "    }\n",
       "\n",
       "    .dataframe thead th {\n",
       "        text-align: right;\n",
       "    }\n",
       "</style>\n",
       "<table border=\"1\" class=\"dataframe\">\n",
       "  <thead>\n",
       "    <tr style=\"text-align: right;\">\n",
       "      <th></th>\n",
       "      <th>id</th>\n",
       "      <th>title</th>\n",
       "      <th>overview</th>\n",
       "      <th>genres</th>\n",
       "      <th>keywords</th>\n",
       "      <th>cast</th>\n",
       "      <th>director</th>\n",
       "      <th>weigh_avg_rating</th>\n",
       "      <th>year</th>\n",
       "    </tr>\n",
       "  </thead>\n",
       "  <tbody>\n",
       "    <tr>\n",
       "      <th>0</th>\n",
       "      <td>278</td>\n",
       "      <td>The Shawshank Redemption</td>\n",
       "      <td>Framed in the 1940s for the double murder of h...</td>\n",
       "      <td>[Drama, Crime]</td>\n",
       "      <td>[prison, corruption, police brutality, prison ...</td>\n",
       "      <td>[timrobbins, morganfreeman, bobgunton]</td>\n",
       "      <td>[Frank Darabont]</td>\n",
       "      <td>8.038342</td>\n",
       "      <td>1994</td>\n",
       "    </tr>\n",
       "    <tr>\n",
       "      <th>1</th>\n",
       "      <td>550</td>\n",
       "      <td>Fight Club</td>\n",
       "      <td>A ticking-time-bomb insomniac and a slippery s...</td>\n",
       "      <td>[Drama]</td>\n",
       "      <td>[support group, dual identity, nihilism, rage ...</td>\n",
       "      <td>[edwardnorton, bradpitt, meatloaf]</td>\n",
       "      <td>[David Fincher]</td>\n",
       "      <td>7.921436</td>\n",
       "      <td>1999</td>\n",
       "    </tr>\n",
       "  </tbody>\n",
       "</table>\n",
       "</div>"
      ],
      "text/plain": [
       "    id                     title  \\\n",
       "0  278  The Shawshank Redemption   \n",
       "1  550                Fight Club   \n",
       "\n",
       "                                            overview          genres  \\\n",
       "0  Framed in the 1940s for the double murder of h...  [Drama, Crime]   \n",
       "1  A ticking-time-bomb insomniac and a slippery s...         [Drama]   \n",
       "\n",
       "                                            keywords  \\\n",
       "0  [prison, corruption, police brutality, prison ...   \n",
       "1  [support group, dual identity, nihilism, rage ...   \n",
       "\n",
       "                                     cast          director  weigh_avg_rating  \\\n",
       "0  [timrobbins, morganfreeman, bobgunton]  [Frank Darabont]          8.038342   \n",
       "1      [edwardnorton, bradpitt, meatloaf]   [David Fincher]          7.921436   \n",
       "\n",
       "   year  \n",
       "0  1994  \n",
       "1  1999  "
      ]
     },
     "execution_count": 289,
     "metadata": {},
     "output_type": "execute_result"
    }
   ],
   "source": [
    "final_data.head(2)"
   ]
  },
  {
   "cell_type": "code",
   "execution_count": 290,
   "id": "144ebc66",
   "metadata": {},
   "outputs": [],
   "source": [
    "# Same thing doing with the director, keywords, genres columns \n",
    "\n",
    "final_data['director'] = final_data['director'].apply(lambda x: [str.lower(i.replace(\" \", \"\")) for i in x])"
   ]
  },
  {
   "cell_type": "code",
   "execution_count": 291,
   "id": "68cfeae8",
   "metadata": {},
   "outputs": [],
   "source": [
    "final_data['keywords'] = final_data['keywords'].apply(lambda x: [str.lower(i.replace(\" \", \"\")) for i in x])"
   ]
  },
  {
   "cell_type": "code",
   "execution_count": 292,
   "id": "a3fe8297",
   "metadata": {},
   "outputs": [],
   "source": [
    "final_data['genres'] = final_data['genres'].apply(lambda x: [str.lower(i.replace(\" \", \"\")) for i in x])"
   ]
  },
  {
   "cell_type": "code",
   "execution_count": 293,
   "id": "5b662272",
   "metadata": {},
   "outputs": [
    {
     "data": {
      "text/html": [
       "<div>\n",
       "<style scoped>\n",
       "    .dataframe tbody tr th:only-of-type {\n",
       "        vertical-align: middle;\n",
       "    }\n",
       "\n",
       "    .dataframe tbody tr th {\n",
       "        vertical-align: top;\n",
       "    }\n",
       "\n",
       "    .dataframe thead th {\n",
       "        text-align: right;\n",
       "    }\n",
       "</style>\n",
       "<table border=\"1\" class=\"dataframe\">\n",
       "  <thead>\n",
       "    <tr style=\"text-align: right;\">\n",
       "      <th></th>\n",
       "      <th>id</th>\n",
       "      <th>title</th>\n",
       "      <th>overview</th>\n",
       "      <th>genres</th>\n",
       "      <th>keywords</th>\n",
       "      <th>cast</th>\n",
       "      <th>director</th>\n",
       "      <th>weigh_avg_rating</th>\n",
       "      <th>year</th>\n",
       "    </tr>\n",
       "  </thead>\n",
       "  <tbody>\n",
       "    <tr>\n",
       "      <th>0</th>\n",
       "      <td>278</td>\n",
       "      <td>The Shawshank Redemption</td>\n",
       "      <td>Framed in the 1940s for the double murder of h...</td>\n",
       "      <td>[drama, crime]</td>\n",
       "      <td>[prison, corruption, policebrutality, prisonce...</td>\n",
       "      <td>[timrobbins, morganfreeman, bobgunton]</td>\n",
       "      <td>[frankdarabont]</td>\n",
       "      <td>8.038342</td>\n",
       "      <td>1994</td>\n",
       "    </tr>\n",
       "    <tr>\n",
       "      <th>1</th>\n",
       "      <td>550</td>\n",
       "      <td>Fight Club</td>\n",
       "      <td>A ticking-time-bomb insomniac and a slippery s...</td>\n",
       "      <td>[drama]</td>\n",
       "      <td>[supportgroup, dualidentity, nihilism, rageand...</td>\n",
       "      <td>[edwardnorton, bradpitt, meatloaf]</td>\n",
       "      <td>[davidfincher]</td>\n",
       "      <td>7.921436</td>\n",
       "      <td>1999</td>\n",
       "    </tr>\n",
       "    <tr>\n",
       "      <th>2</th>\n",
       "      <td>155</td>\n",
       "      <td>The Dark Knight</td>\n",
       "      <td>Batman raises the stakes in his war on crime. ...</td>\n",
       "      <td>[drama, action, crime, thriller]</td>\n",
       "      <td>[dccomics, crimefighter, secretidentity, scare...</td>\n",
       "      <td>[christianbale, heathledger, aaroneckhart]</td>\n",
       "      <td>[christophernolan]</td>\n",
       "      <td>7.905627</td>\n",
       "      <td>2008</td>\n",
       "    </tr>\n",
       "  </tbody>\n",
       "</table>\n",
       "</div>"
      ],
      "text/plain": [
       "    id                     title  \\\n",
       "0  278  The Shawshank Redemption   \n",
       "1  550                Fight Club   \n",
       "2  155           The Dark Knight   \n",
       "\n",
       "                                            overview  \\\n",
       "0  Framed in the 1940s for the double murder of h...   \n",
       "1  A ticking-time-bomb insomniac and a slippery s...   \n",
       "2  Batman raises the stakes in his war on crime. ...   \n",
       "\n",
       "                             genres  \\\n",
       "0                    [drama, crime]   \n",
       "1                           [drama]   \n",
       "2  [drama, action, crime, thriller]   \n",
       "\n",
       "                                            keywords  \\\n",
       "0  [prison, corruption, policebrutality, prisonce...   \n",
       "1  [supportgroup, dualidentity, nihilism, rageand...   \n",
       "2  [dccomics, crimefighter, secretidentity, scare...   \n",
       "\n",
       "                                         cast            director  \\\n",
       "0      [timrobbins, morganfreeman, bobgunton]     [frankdarabont]   \n",
       "1          [edwardnorton, bradpitt, meatloaf]      [davidfincher]   \n",
       "2  [christianbale, heathledger, aaroneckhart]  [christophernolan]   \n",
       "\n",
       "   weigh_avg_rating  year  \n",
       "0          8.038342  1994  \n",
       "1          7.921436  1999  \n",
       "2          7.905627  2008  "
      ]
     },
     "execution_count": 293,
     "metadata": {},
     "output_type": "execute_result"
    }
   ],
   "source": [
    "\n",
    "# Now checking the final-data\n",
    "\n",
    "final_data.head(3)"
   ]
  },
  {
   "cell_type": "code",
   "execution_count": 294,
   "id": "7e01df59",
   "metadata": {},
   "outputs": [
    {
     "data": {
      "text/plain": [
       "'boy'"
      ]
     },
     "execution_count": 294,
     "metadata": {},
     "output_type": "execute_result"
    }
   ],
   "source": [
    "# stemming for keywords as all other columns that we are going to include may not have words like boy and boys\n",
    "stemmer = SnowballStemmer('english')\n",
    "\n",
    "# example\n",
    "stemmer.stem('Boys')"
   ]
  },
  {
   "cell_type": "code",
   "execution_count": 295,
   "id": "8a9e3d72",
   "metadata": {},
   "outputs": [],
   "source": [
    "final_data['keywords'] = final_data['keywords'].apply(lambda x: [stemmer.stem(i) for i in x])"
   ]
  },
  {
   "cell_type": "code",
   "execution_count": 296,
   "id": "24386bb1",
   "metadata": {},
   "outputs": [
    {
     "data": {
      "text/html": [
       "<div>\n",
       "<style scoped>\n",
       "    .dataframe tbody tr th:only-of-type {\n",
       "        vertical-align: middle;\n",
       "    }\n",
       "\n",
       "    .dataframe tbody tr th {\n",
       "        vertical-align: top;\n",
       "    }\n",
       "\n",
       "    .dataframe thead th {\n",
       "        text-align: right;\n",
       "    }\n",
       "</style>\n",
       "<table border=\"1\" class=\"dataframe\">\n",
       "  <thead>\n",
       "    <tr style=\"text-align: right;\">\n",
       "      <th></th>\n",
       "      <th>id</th>\n",
       "      <th>title</th>\n",
       "      <th>overview</th>\n",
       "      <th>genres</th>\n",
       "      <th>keywords</th>\n",
       "      <th>cast</th>\n",
       "      <th>director</th>\n",
       "      <th>weigh_avg_rating</th>\n",
       "      <th>year</th>\n",
       "    </tr>\n",
       "  </thead>\n",
       "  <tbody>\n",
       "    <tr>\n",
       "      <th>0</th>\n",
       "      <td>278</td>\n",
       "      <td>The Shawshank Redemption</td>\n",
       "      <td>Framed in the 1940s for the double murder of h...</td>\n",
       "      <td>[drama, crime]</td>\n",
       "      <td>[prison, corrupt, policebrut, prisoncel, delin...</td>\n",
       "      <td>[timrobbins, morganfreeman, bobgunton]</td>\n",
       "      <td>[frankdarabont]</td>\n",
       "      <td>8.038342</td>\n",
       "      <td>1994</td>\n",
       "    </tr>\n",
       "    <tr>\n",
       "      <th>1</th>\n",
       "      <td>550</td>\n",
       "      <td>Fight Club</td>\n",
       "      <td>A ticking-time-bomb insomniac and a slippery s...</td>\n",
       "      <td>[drama]</td>\n",
       "      <td>[supportgroup, dualident, nihil, rageandh, ins...</td>\n",
       "      <td>[edwardnorton, bradpitt, meatloaf]</td>\n",
       "      <td>[davidfincher]</td>\n",
       "      <td>7.921436</td>\n",
       "      <td>1999</td>\n",
       "    </tr>\n",
       "    <tr>\n",
       "      <th>2</th>\n",
       "      <td>155</td>\n",
       "      <td>The Dark Knight</td>\n",
       "      <td>Batman raises the stakes in his war on crime. ...</td>\n",
       "      <td>[drama, action, crime, thriller]</td>\n",
       "      <td>[dccomic, crimefight, secretident, scarecrow, ...</td>\n",
       "      <td>[christianbale, heathledger, aaroneckhart]</td>\n",
       "      <td>[christophernolan]</td>\n",
       "      <td>7.905627</td>\n",
       "      <td>2008</td>\n",
       "    </tr>\n",
       "  </tbody>\n",
       "</table>\n",
       "</div>"
      ],
      "text/plain": [
       "    id                     title  \\\n",
       "0  278  The Shawshank Redemption   \n",
       "1  550                Fight Club   \n",
       "2  155           The Dark Knight   \n",
       "\n",
       "                                            overview  \\\n",
       "0  Framed in the 1940s for the double murder of h...   \n",
       "1  A ticking-time-bomb insomniac and a slippery s...   \n",
       "2  Batman raises the stakes in his war on crime. ...   \n",
       "\n",
       "                             genres  \\\n",
       "0                    [drama, crime]   \n",
       "1                           [drama]   \n",
       "2  [drama, action, crime, thriller]   \n",
       "\n",
       "                                            keywords  \\\n",
       "0  [prison, corrupt, policebrut, prisoncel, delin...   \n",
       "1  [supportgroup, dualident, nihil, rageandh, ins...   \n",
       "2  [dccomic, crimefight, secretident, scarecrow, ...   \n",
       "\n",
       "                                         cast            director  \\\n",
       "0      [timrobbins, morganfreeman, bobgunton]     [frankdarabont]   \n",
       "1          [edwardnorton, bradpitt, meatloaf]      [davidfincher]   \n",
       "2  [christianbale, heathledger, aaroneckhart]  [christophernolan]   \n",
       "\n",
       "   weigh_avg_rating  year  \n",
       "0          8.038342  1994  \n",
       "1          7.921436  1999  \n",
       "2          7.905627  2008  "
      ]
     },
     "execution_count": 296,
     "metadata": {},
     "output_type": "execute_result"
    }
   ],
   "source": [
    "final_data.head(3)"
   ]
  },
  {
   "cell_type": "code",
   "execution_count": 297,
   "id": "7a4ff963",
   "metadata": {},
   "outputs": [],
   "source": [
    "\n",
    "# final details which is going to be use for checking similarity\n",
    "\n",
    "final_data['details'] = final_data['genres'] + final_data['cast'] + final_data['keywords'] + final_data['director']"
   ]
  },
  {
   "cell_type": "code",
   "execution_count": 298,
   "id": "aeb34720",
   "metadata": {},
   "outputs": [
    {
     "data": {
      "text/html": [
       "<div>\n",
       "<style scoped>\n",
       "    .dataframe tbody tr th:only-of-type {\n",
       "        vertical-align: middle;\n",
       "    }\n",
       "\n",
       "    .dataframe tbody tr th {\n",
       "        vertical-align: top;\n",
       "    }\n",
       "\n",
       "    .dataframe thead th {\n",
       "        text-align: right;\n",
       "    }\n",
       "</style>\n",
       "<table border=\"1\" class=\"dataframe\">\n",
       "  <thead>\n",
       "    <tr style=\"text-align: right;\">\n",
       "      <th></th>\n",
       "      <th>id</th>\n",
       "      <th>title</th>\n",
       "      <th>overview</th>\n",
       "      <th>genres</th>\n",
       "      <th>keywords</th>\n",
       "      <th>cast</th>\n",
       "      <th>director</th>\n",
       "      <th>weigh_avg_rating</th>\n",
       "      <th>year</th>\n",
       "      <th>details</th>\n",
       "    </tr>\n",
       "  </thead>\n",
       "  <tbody>\n",
       "    <tr>\n",
       "      <th>0</th>\n",
       "      <td>278</td>\n",
       "      <td>The Shawshank Redemption</td>\n",
       "      <td>Framed in the 1940s for the double murder of h...</td>\n",
       "      <td>[drama, crime]</td>\n",
       "      <td>[prison, corrupt, policebrut, prisoncel, delin...</td>\n",
       "      <td>[timrobbins, morganfreeman, bobgunton]</td>\n",
       "      <td>[frankdarabont]</td>\n",
       "      <td>8.038342</td>\n",
       "      <td>1994</td>\n",
       "      <td>[drama, crime, timrobbins, morganfreeman, bobg...</td>\n",
       "    </tr>\n",
       "    <tr>\n",
       "      <th>1</th>\n",
       "      <td>550</td>\n",
       "      <td>Fight Club</td>\n",
       "      <td>A ticking-time-bomb insomniac and a slippery s...</td>\n",
       "      <td>[drama]</td>\n",
       "      <td>[supportgroup, dualident, nihil, rageandh, ins...</td>\n",
       "      <td>[edwardnorton, bradpitt, meatloaf]</td>\n",
       "      <td>[davidfincher]</td>\n",
       "      <td>7.921436</td>\n",
       "      <td>1999</td>\n",
       "      <td>[drama, edwardnorton, bradpitt, meatloaf, supp...</td>\n",
       "    </tr>\n",
       "    <tr>\n",
       "      <th>2</th>\n",
       "      <td>155</td>\n",
       "      <td>The Dark Knight</td>\n",
       "      <td>Batman raises the stakes in his war on crime. ...</td>\n",
       "      <td>[drama, action, crime, thriller]</td>\n",
       "      <td>[dccomic, crimefight, secretident, scarecrow, ...</td>\n",
       "      <td>[christianbale, heathledger, aaroneckhart]</td>\n",
       "      <td>[christophernolan]</td>\n",
       "      <td>7.905627</td>\n",
       "      <td>2008</td>\n",
       "      <td>[drama, action, crime, thriller, christianbale...</td>\n",
       "    </tr>\n",
       "  </tbody>\n",
       "</table>\n",
       "</div>"
      ],
      "text/plain": [
       "    id                     title  \\\n",
       "0  278  The Shawshank Redemption   \n",
       "1  550                Fight Club   \n",
       "2  155           The Dark Knight   \n",
       "\n",
       "                                            overview  \\\n",
       "0  Framed in the 1940s for the double murder of h...   \n",
       "1  A ticking-time-bomb insomniac and a slippery s...   \n",
       "2  Batman raises the stakes in his war on crime. ...   \n",
       "\n",
       "                             genres  \\\n",
       "0                    [drama, crime]   \n",
       "1                           [drama]   \n",
       "2  [drama, action, crime, thriller]   \n",
       "\n",
       "                                            keywords  \\\n",
       "0  [prison, corrupt, policebrut, prisoncel, delin...   \n",
       "1  [supportgroup, dualident, nihil, rageandh, ins...   \n",
       "2  [dccomic, crimefight, secretident, scarecrow, ...   \n",
       "\n",
       "                                         cast            director  \\\n",
       "0      [timrobbins, morganfreeman, bobgunton]     [frankdarabont]   \n",
       "1          [edwardnorton, bradpitt, meatloaf]      [davidfincher]   \n",
       "2  [christianbale, heathledger, aaroneckhart]  [christophernolan]   \n",
       "\n",
       "   weigh_avg_rating  year                                            details  \n",
       "0          8.038342  1994  [drama, crime, timrobbins, morganfreeman, bobg...  \n",
       "1          7.921436  1999  [drama, edwardnorton, bradpitt, meatloaf, supp...  \n",
       "2          7.905627  2008  [drama, action, crime, thriller, christianbale...  "
      ]
     },
     "execution_count": 298,
     "metadata": {},
     "output_type": "execute_result"
    }
   ],
   "source": [
    "final_data.head(3)"
   ]
  },
  {
   "cell_type": "code",
   "execution_count": 299,
   "id": "8786e27f",
   "metadata": {},
   "outputs": [],
   "source": [
    "\n",
    "# removing the columns keywords', 'director', 'overview', 'cast', 'genres','year' as there work is done\n",
    "\n",
    "final_data = final_data.drop(columns = ['keywords', 'director', 'overview', 'cast', 'genres','year'])"
   ]
  },
  {
   "cell_type": "code",
   "execution_count": 300,
   "id": "df79aca6",
   "metadata": {},
   "outputs": [],
   "source": [
    "\n",
    "# coverting our final details column to string for comparison\n",
    "\n",
    "final_data['details'] = final_data['details'].apply(lambda x: \" \".join(x))"
   ]
  },
  {
   "cell_type": "code",
   "execution_count": 301,
   "id": "0ad1a583",
   "metadata": {},
   "outputs": [
    {
     "data": {
      "text/html": [
       "<div>\n",
       "<style scoped>\n",
       "    .dataframe tbody tr th:only-of-type {\n",
       "        vertical-align: middle;\n",
       "    }\n",
       "\n",
       "    .dataframe tbody tr th {\n",
       "        vertical-align: top;\n",
       "    }\n",
       "\n",
       "    .dataframe thead th {\n",
       "        text-align: right;\n",
       "    }\n",
       "</style>\n",
       "<table border=\"1\" class=\"dataframe\">\n",
       "  <thead>\n",
       "    <tr style=\"text-align: right;\">\n",
       "      <th></th>\n",
       "      <th>id</th>\n",
       "      <th>title</th>\n",
       "      <th>weigh_avg_rating</th>\n",
       "      <th>details</th>\n",
       "    </tr>\n",
       "  </thead>\n",
       "  <tbody>\n",
       "    <tr>\n",
       "      <th>0</th>\n",
       "      <td>278</td>\n",
       "      <td>The Shawshank Redemption</td>\n",
       "      <td>8.038342</td>\n",
       "      <td>drama crime timrobbins morganfreeman bobgunton...</td>\n",
       "    </tr>\n",
       "    <tr>\n",
       "      <th>1</th>\n",
       "      <td>550</td>\n",
       "      <td>Fight Club</td>\n",
       "      <td>7.921436</td>\n",
       "      <td>drama edwardnorton bradpitt meatloaf supportgr...</td>\n",
       "    </tr>\n",
       "    <tr>\n",
       "      <th>2</th>\n",
       "      <td>155</td>\n",
       "      <td>The Dark Knight</td>\n",
       "      <td>7.905627</td>\n",
       "      <td>drama action crime thriller christianbale heat...</td>\n",
       "    </tr>\n",
       "    <tr>\n",
       "      <th>3</th>\n",
       "      <td>680</td>\n",
       "      <td>Pulp Fiction</td>\n",
       "      <td>7.885403</td>\n",
       "      <td>thriller crime johntravolta samuell.jackson um...</td>\n",
       "    </tr>\n",
       "    <tr>\n",
       "      <th>4</th>\n",
       "      <td>27205</td>\n",
       "      <td>Inception</td>\n",
       "      <td>7.850750</td>\n",
       "      <td>action thriller sciencefiction mystery adventu...</td>\n",
       "    </tr>\n",
       "    <tr>\n",
       "      <th>...</th>\n",
       "      <td>...</td>\n",
       "      <td>...</td>\n",
       "      <td>...</td>\n",
       "      <td>...</td>\n",
       "    </tr>\n",
       "    <tr>\n",
       "      <th>4500</th>\n",
       "      <td>14164</td>\n",
       "      <td>Dragonball Evolution</td>\n",
       "      <td>5.451735</td>\n",
       "      <td>action adventure fantasy sciencefiction thrill...</td>\n",
       "    </tr>\n",
       "    <tr>\n",
       "      <th>4501</th>\n",
       "      <td>47933</td>\n",
       "      <td>Independence Day: Resurgence</td>\n",
       "      <td>5.407423</td>\n",
       "      <td>action adventure sciencefiction liamhemsworth ...</td>\n",
       "    </tr>\n",
       "    <tr>\n",
       "      <th>4502</th>\n",
       "      <td>241251</td>\n",
       "      <td>The Boy Next Door</td>\n",
       "      <td>5.382885</td>\n",
       "      <td>thriller jenniferlopez ryanguzman iannelson ma...</td>\n",
       "    </tr>\n",
       "    <tr>\n",
       "      <th>4503</th>\n",
       "      <td>415</td>\n",
       "      <td>Batman &amp; Robin</td>\n",
       "      <td>5.273178</td>\n",
       "      <td>action crime fantasy georgeclooney chriso'donn...</td>\n",
       "    </tr>\n",
       "    <tr>\n",
       "      <th>4504</th>\n",
       "      <td>166424</td>\n",
       "      <td>Fantastic Four</td>\n",
       "      <td>5.161861</td>\n",
       "      <td>action adventure sciencefiction milesteller ka...</td>\n",
       "    </tr>\n",
       "  </tbody>\n",
       "</table>\n",
       "<p>4501 rows × 4 columns</p>\n",
       "</div>"
      ],
      "text/plain": [
       "          id                         title  weigh_avg_rating  \\\n",
       "0        278      The Shawshank Redemption          8.038342   \n",
       "1        550                    Fight Club          7.921436   \n",
       "2        155               The Dark Knight          7.905627   \n",
       "3        680                  Pulp Fiction          7.885403   \n",
       "4      27205                     Inception          7.850750   \n",
       "...      ...                           ...               ...   \n",
       "4500   14164          Dragonball Evolution          5.451735   \n",
       "4501   47933  Independence Day: Resurgence          5.407423   \n",
       "4502  241251             The Boy Next Door          5.382885   \n",
       "4503     415                Batman & Robin          5.273178   \n",
       "4504  166424                Fantastic Four          5.161861   \n",
       "\n",
       "                                                details  \n",
       "0     drama crime timrobbins morganfreeman bobgunton...  \n",
       "1     drama edwardnorton bradpitt meatloaf supportgr...  \n",
       "2     drama action crime thriller christianbale heat...  \n",
       "3     thriller crime johntravolta samuell.jackson um...  \n",
       "4     action thriller sciencefiction mystery adventu...  \n",
       "...                                                 ...  \n",
       "4500  action adventure fantasy sciencefiction thrill...  \n",
       "4501  action adventure sciencefiction liamhemsworth ...  \n",
       "4502  thriller jenniferlopez ryanguzman iannelson ma...  \n",
       "4503  action crime fantasy georgeclooney chriso'donn...  \n",
       "4504  action adventure sciencefiction milesteller ka...  \n",
       "\n",
       "[4501 rows x 4 columns]"
      ]
     },
     "execution_count": 301,
     "metadata": {},
     "output_type": "execute_result"
    }
   ],
   "source": [
    "# taking a copy of final_dat in temp data\n",
    "temp_data = final_data\n",
    "temp_data"
   ]
  },
  {
   "cell_type": "markdown",
   "id": "d7eca019",
   "metadata": {},
   "source": [
    "# Vectorization\n",
    "\n",
    "<H4> In this I am converting The details of column which is a Big String in the form of vectors and then compare those vectors similarity using cosine similarity and then recommend movies on the basis of similarity <br></H4>"
   ]
  },
  {
   "cell_type": "code",
   "execution_count": 302,
   "id": "62b3243c",
   "metadata": {},
   "outputs": [],
   "source": [
    "# using tfidf vectorization and taking max_features = row size, and for ignoring stop words like a, is, am etc\n",
    "\n",
    "tf = TfidfVectorizer(max_features = 4501, stop_words = 'english')\n",
    "\n",
    "tfidf_matrix = tf.fit_transform(temp_data['details'])"
   ]
  },
  {
   "cell_type": "code",
   "execution_count": 303,
   "id": "0e23c9c6",
   "metadata": {},
   "outputs": [
    {
     "data": {
      "text/plain": [
       "(4501, 4501)"
      ]
     },
     "execution_count": 303,
     "metadata": {},
     "output_type": "execute_result"
    }
   ],
   "source": [
    "tfidf_matrix.shape"
   ]
  },
  {
   "cell_type": "markdown",
   "id": "32500ecc",
   "metadata": {},
   "source": [
    "# Cosine Similarity "
   ]
  },
  {
   "cell_type": "code",
   "execution_count": 304,
   "id": "e36907b6",
   "metadata": {},
   "outputs": [],
   "source": [
    "# using sklearn library calculating cosine similarity\n",
    "\n",
    "cosine_sim1 = linear_kernel(tfidf_matrix, tfidf_matrix)"
   ]
  },
  {
   "cell_type": "code",
   "execution_count": 305,
   "id": "ea31a0f8",
   "metadata": {},
   "outputs": [],
   "source": [
    "# this will sort the movies acc to index in ascending order\n",
    "temp_data = temp_data.reset_index()\n",
    "\n",
    "# fetching movie titles\n",
    "titles1 = temp_data['title']\n",
    "\n",
    "# fetching movie titles coressponding to their indices\n",
    "indices1 = pd.Series(temp_data.index, index = temp_data['title'])"
   ]
  },
  {
   "cell_type": "code",
   "execution_count": 306,
   "id": "561f004f",
   "metadata": {},
   "outputs": [],
   "source": [
    "# since 4797 will took time for interactive function to load\n",
    "# hence i took some 50 movies\n",
    "\n",
    "some_titles = titles1[1:51]\n",
    "\n",
    "# or we can directly give title to the function"
   ]
  },
  {
   "cell_type": "code",
   "execution_count": 307,
   "id": "7458dc74",
   "metadata": {},
   "outputs": [
    {
     "data": {
      "application/vnd.jupyter.widget-view+json": {
       "model_id": "19dd9b3d35f8495086e118abf2d631dc",
       "version_major": 2,
       "version_minor": 0
      },
      "text/plain": [
       "interactive(children=(Dropdown(description='title', options=('Fight Club', 'The Dark Knight', 'Pulp Fiction', …"
      ]
     },
     "metadata": {},
     "output_type": "display_data"
    }
   ],
   "source": [
    "@interact\n",
    "def recommendations(title = some_titles, frequency = range(3,11)):\n",
    "    # getting index of movie\n",
    "    idx = indices1[title]\n",
    "    \n",
    "    # getting the similarity score\n",
    "    sim_scores = list(enumerate(cosine_sim1[idx]))\n",
    "    \n",
    "    # now sorting it\n",
    "    sim_scores = sorted(sim_scores, key=lambda x: x[1], reverse=True)\n",
    "    \n",
    "    # now storing top 10 movies we got according to similarity scores\n",
    "    sim_scores = sim_scores[1:frequency+1]\n",
    "    \n",
    "    # storing the resulting movies indices\n",
    "    movie_indices = [i[0] for i in sim_scores]\n",
    "    \n",
    "    return titles1.iloc[movie_indices]"
   ]
  },
  {
   "cell_type": "code",
   "execution_count": 308,
   "id": "370677b8",
   "metadata": {},
   "outputs": [],
   "source": [
    "# here is one problem that it recommends similar movies according to genres, keywords, cast but it does not checking the ratings\n",
    "# like batman and robin, superman returns are flop movies, it suggesting very similar but without thinking about the whether \n",
    "# it is bad or good according to rating\n",
    "# but it still sugesting it. so I improved it using weighted_average_rating "
   ]
  },
  {
   "cell_type": "code",
   "execution_count": 309,
   "id": "391c055d",
   "metadata": {},
   "outputs": [],
   "source": [
    "# so now I sort the movies not only on the basis on similarity but weighted_avgerage_rating also"
   ]
  },
  {
   "cell_type": "code",
   "execution_count": 310,
   "id": "daf04144",
   "metadata": {},
   "outputs": [
    {
     "data": {
      "text/plain": [
       "CountVectorizer(max_features=4501, stop_words='english')"
      ]
     },
     "execution_count": 310,
     "metadata": {},
     "output_type": "execute_result"
    }
   ],
   "source": [
    "# Here I use Count Vectorizer to find vectors corresponding to details string\n",
    "\n",
    "word_vector = CountVectorizer(max_features = 4501, stop_words='english')\n",
    "word_vector"
   ]
  },
  {
   "cell_type": "code",
   "execution_count": 311,
   "id": "5aa5a4f9",
   "metadata": {},
   "outputs": [
    {
     "data": {
      "text/plain": [
       "array([[0, 0, 0, ..., 0, 0, 0],\n",
       "       [0, 0, 0, ..., 0, 0, 0],\n",
       "       [0, 0, 0, ..., 0, 0, 0],\n",
       "       ...,\n",
       "       [0, 0, 0, ..., 0, 0, 0],\n",
       "       [0, 0, 0, ..., 0, 0, 0],\n",
       "       [0, 0, 0, ..., 0, 0, 0]], dtype=int64)"
      ]
     },
     "execution_count": 311,
     "metadata": {},
     "output_type": "execute_result"
    }
   ],
   "source": [
    "# creating a matrix of word_vector and converting it into 2-D Array\n",
    "\n",
    "word_matrix = word_vector.fit_transform(temp_data['details']).toarray()\n",
    "word_matrix"
   ]
  },
  {
   "cell_type": "code",
   "execution_count": 312,
   "id": "316ecddc",
   "metadata": {},
   "outputs": [
    {
     "data": {
      "text/plain": [
       "(4501, 4501)"
      ]
     },
     "execution_count": 312,
     "metadata": {},
     "output_type": "execute_result"
    }
   ],
   "source": [
    "word_matrix.shape"
   ]
  },
  {
   "cell_type": "code",
   "execution_count": 313,
   "id": "d0a8298f",
   "metadata": {},
   "outputs": [],
   "source": [
    "# Now Here I again Find the Cosine Similarity\n",
    "\n",
    "cosine_sim2 = cosine_similarity(word_matrix)"
   ]
  },
  {
   "cell_type": "code",
   "execution_count": 314,
   "id": "561d336d",
   "metadata": {},
   "outputs": [],
   "source": [
    "# resetting the index\n",
    "final_data = final_data.reset_index()\n",
    "\n",
    "# fetching movie titles\n",
    "titles2 = final_data['title']\n",
    "\n",
    "# fetching indexes of movie titles\n",
    "indices2 = pd.Series(final_data.index, index = final_data['title'])"
   ]
  },
  {
   "cell_type": "code",
   "execution_count": 315,
   "id": "3b808358",
   "metadata": {},
   "outputs": [
    {
     "data": {
      "application/vnd.jupyter.widget-view+json": {
       "model_id": "9a1b4b1b9816497fb5e82d2a8363d343",
       "version_major": 2,
       "version_minor": 0
      },
      "text/plain": [
       "interactive(children=(Dropdown(description='title', options=('Fight Club', 'The Dark Knight', 'Pulp Fiction', …"
      ]
     },
     "metadata": {},
     "output_type": "display_data"
    }
   ],
   "source": [
    "@interact\n",
    "def optimized_recommendations(title = some_titles, frequency = range(3,11)):\n",
    "    \n",
    "    # index of movie title\n",
    "    idx = indices2[title]\n",
    "    \n",
    "    # finding similarity scores and sorting the resultant movies in descending order of sim_scores\n",
    "    \n",
    "    # enumerate function holds the indixes while calculating similarity\n",
    "    sim_scores = list(enumerate(cosine_sim2[idx]))\n",
    "    sim_scores = sorted(sim_scores, key=lambda x: x[1], reverse=True)\n",
    "    sim_scores = sim_scores[1:11]\n",
    "    \n",
    "    movie_indices = [i[0] for i in sim_scores]\n",
    "    \n",
    "    # here is the whole movie data required for applying average weighted technique \n",
    "    movie_req = final_data.iloc[movie_indices][['title', 'weigh_avg_rating']]\n",
    "    \n",
    "    \n",
    "    result = movie_req.sort_values('weigh_avg_rating', ascending=False).head(frequency)\n",
    "    \n",
    "    return result"
   ]
  },
  {
   "cell_type": "code",
   "execution_count": 316,
   "id": "f4e00f8c",
   "metadata": {},
   "outputs": [
    {
     "data": {
      "text/html": [
       "<div>\n",
       "<style scoped>\n",
       "    .dataframe tbody tr th:only-of-type {\n",
       "        vertical-align: middle;\n",
       "    }\n",
       "\n",
       "    .dataframe tbody tr th {\n",
       "        vertical-align: top;\n",
       "    }\n",
       "\n",
       "    .dataframe thead th {\n",
       "        text-align: right;\n",
       "    }\n",
       "</style>\n",
       "<table border=\"1\" class=\"dataframe\">\n",
       "  <thead>\n",
       "    <tr style=\"text-align: right;\">\n",
       "      <th></th>\n",
       "      <th>title</th>\n",
       "      <th>weigh_avg_rating</th>\n",
       "    </tr>\n",
       "  </thead>\n",
       "  <tbody>\n",
       "    <tr>\n",
       "      <th>63</th>\n",
       "      <td>Captain America: The Winter Soldier</td>\n",
       "      <td>7.216590</td>\n",
       "    </tr>\n",
       "    <tr>\n",
       "      <th>64</th>\n",
       "      <td>The Avengers</td>\n",
       "      <td>7.212929</td>\n",
       "    </tr>\n",
       "    <tr>\n",
       "      <th>68</th>\n",
       "      <td>Deadpool</td>\n",
       "      <td>7.201617</td>\n",
       "    </tr>\n",
       "    <tr>\n",
       "      <th>84</th>\n",
       "      <td>X-Men: Days of Future Past</td>\n",
       "      <td>7.153659</td>\n",
       "    </tr>\n",
       "    <tr>\n",
       "      <th>162</th>\n",
       "      <td>Captain America: Civil War</td>\n",
       "      <td>6.883206</td>\n",
       "    </tr>\n",
       "    <tr>\n",
       "      <th>198</th>\n",
       "      <td>Ant-Man</td>\n",
       "      <td>6.769996</td>\n",
       "    </tr>\n",
       "    <tr>\n",
       "      <th>329</th>\n",
       "      <td>X-Men</td>\n",
       "      <td>6.565666</td>\n",
       "    </tr>\n",
       "    <tr>\n",
       "      <th>352</th>\n",
       "      <td>X2</td>\n",
       "      <td>6.540143</td>\n",
       "    </tr>\n",
       "    <tr>\n",
       "      <th>919</th>\n",
       "      <td>The Wolverine</td>\n",
       "      <td>6.224674</td>\n",
       "    </tr>\n",
       "    <tr>\n",
       "      <th>943</th>\n",
       "      <td>X-Men: The Last Stand</td>\n",
       "      <td>6.217370</td>\n",
       "    </tr>\n",
       "  </tbody>\n",
       "</table>\n",
       "</div>"
      ],
      "text/plain": [
       "                                   title  weigh_avg_rating\n",
       "63   Captain America: The Winter Soldier          7.216590\n",
       "64                          The Avengers          7.212929\n",
       "68                              Deadpool          7.201617\n",
       "84            X-Men: Days of Future Past          7.153659\n",
       "162           Captain America: Civil War          6.883206\n",
       "198                              Ant-Man          6.769996\n",
       "329                                X-Men          6.565666\n",
       "352                                   X2          6.540143\n",
       "919                        The Wolverine          6.224674\n",
       "943                X-Men: The Last Stand          6.217370"
      ]
     },
     "execution_count": 316,
     "metadata": {},
     "output_type": "execute_result"
    }
   ],
   "source": [
    "# we can check the recommendations by typing titles\n",
    "optimized_recommendations('X-Men Origins: Wolverine',10)"
   ]
  },
  {
   "cell_type": "code",
   "execution_count": 317,
   "id": "da4437f8",
   "metadata": {},
   "outputs": [],
   "source": [
    "#pickle.dump(cosine_sim2,open('matrix.pkl','wb'))"
   ]
  },
  {
   "cell_type": "code",
   "execution_count": 318,
   "id": "943c1cc5",
   "metadata": {},
   "outputs": [
    {
     "data": {
      "application/vnd.jupyter.widget-view+json": {
       "model_id": "893a41d4f0894301929da7e1bbd75e9e",
       "version_major": 2,
       "version_minor": 0
      },
      "text/plain": [
       "interactive(children=(Dropdown(description='title', options=('Fight Club', 'The Dark Knight', 'Pulp Fiction', …"
      ]
     },
     "metadata": {},
     "output_type": "display_data"
    }
   ],
   "source": [
    "@interact\n",
    "def optimized_recommendations(title = some_titles, frequency = range(3,11)):\n",
    "    \n",
    "    # index of movie title\n",
    "    idx = indices2[title]\n",
    "    \n",
    "    # finding similarity scores and sorting the resultant movies in descending order of sim_scores\n",
    "    \n",
    "    # enumerate function holds the indixes while calculating similarity\n",
    "    sim_scores = list(enumerate(cosine_sim2[idx]))\n",
    "    sim_scores = sorted(sim_scores, key=lambda x: x[1], reverse=True)\n",
    "    sim_scores = sim_scores[1:11]\n",
    "    \n",
    "    movie_indices = [i[0] for i in sim_scores]\n",
    "    \n",
    "    # here is the whole movie data required for applying average weighted technique \n",
    "    movie_req = final_data.iloc[movie_indices][['title', 'weigh_avg_rating']]\n",
    "    \n",
    "    return movie_req"
   ]
  },
  {
   "cell_type": "code",
   "execution_count": null,
   "id": "f53bb332",
   "metadata": {},
   "outputs": [],
   "source": []
  }
 ],
 "metadata": {
  "kernelspec": {
   "display_name": "Python 3 (ipykernel)",
   "language": "python",
   "name": "python3"
  },
  "language_info": {
   "codemirror_mode": {
    "name": "ipython",
    "version": 3
   },
   "file_extension": ".py",
   "mimetype": "text/x-python",
   "name": "python",
   "nbconvert_exporter": "python",
   "pygments_lexer": "ipython3",
   "version": "3.9.12"
  }
 },
 "nbformat": 4,
 "nbformat_minor": 5
}
